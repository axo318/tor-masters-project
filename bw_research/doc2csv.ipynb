{
 "cells": [
  {
   "cell_type": "code",
   "execution_count": 2,
   "metadata": {},
   "outputs": [],
   "source": [
    "import os\n",
    "import sys\n",
    "import imp\n",
    "\n",
    "from lib.consensus_utils import getConsensusDataFrame, getPresentValueList, rearrangeDataFrames\n",
    "from lib.utils import fingerprint_default, name_default, bandwidth_default\n"
   ]
  },
  {
   "cell_type": "code",
   "execution_count": 6,
   "metadata": {},
   "outputs": [],
   "source": [
    "# Get all daily consensus lists in an array\n",
    "consensuses_path = \"data/consensuses-2020-02/\"\n",
    "file_paths = []\n",
    "\n",
    "for day in os.listdir(consensuses_path):\n",
    "    day_path = consensuses_path + day + '/'\n",
    "    day_list = []\n",
    "    for consensus in os.listdir(day_path):\n",
    "        day_list.append(day_path+consensus)\n",
    "    file_paths.append(day_list)"
   ]
  },
  {
   "cell_type": "code",
   "execution_count": 7,
   "metadata": {},
   "outputs": [
    {
     "name": "stdout",
     "output_type": "stream",
     "text": [
      "starting with 0 consensus ...\n",
      "Getting present relays from 0 consensus\n",
      "Finished with 0 / 22\n",
      "starting with 1 consensus ...\n",
      "Getting present relays from 1 consensus\n",
      "Finished with 1 / 22\n",
      "starting with 2 consensus ...\n",
      "Getting present relays from 2 consensus\n",
      "Finished with 2 / 22\n",
      "starting with 3 consensus ...\n",
      "Getting present relays from 3 consensus\n",
      "Finished with 3 / 22\n",
      "starting with 4 consensus ...\n",
      "Getting present relays from 4 consensus\n",
      "Finished with 4 / 22\n",
      "starting with 5 consensus ...\n",
      "Getting present relays from 5 consensus\n",
      "Finished with 5 / 22\n",
      "starting with 6 consensus ...\n",
      "Getting present relays from 6 consensus\n",
      "Finished with 6 / 22\n",
      "starting with 7 consensus ...\n",
      "Getting present relays from 7 consensus\n",
      "Finished with 7 / 22\n",
      "starting with 8 consensus ...\n",
      "Getting present relays from 8 consensus\n",
      "Finished with 8 / 22\n",
      "starting with 9 consensus ...\n",
      "Getting present relays from 9 consensus\n",
      "Finished with 9 / 22\n",
      "starting with 10 consensus ...\n",
      "Getting present relays from 10 consensus\n",
      "Finished with 10 / 22\n",
      "starting with 11 consensus ...\n",
      "Getting present relays from 11 consensus\n",
      "Finished with 11 / 22\n",
      "starting with 12 consensus ...\n",
      "Getting present relays from 12 consensus\n",
      "Finished with 12 / 22\n",
      "starting with 13 consensus ...\n",
      "Getting present relays from 13 consensus\n",
      "Finished with 13 / 22\n",
      "starting with 14 consensus ...\n",
      "Getting present relays from 14 consensus\n",
      "Finished with 14 / 22\n",
      "starting with 15 consensus ...\n",
      "Getting present relays from 15 consensus\n",
      "Finished with 15 / 22\n",
      "starting with 16 consensus ...\n",
      "Getting present relays from 16 consensus\n",
      "Finished with 16 / 22\n",
      "starting with 17 consensus ...\n",
      "Getting present relays from 17 consensus\n",
      "Finished with 17 / 22\n",
      "starting with 18 consensus ...\n",
      "Getting present relays from 18 consensus\n",
      "Finished with 18 / 22\n",
      "starting with 19 consensus ...\n",
      "Getting present relays from 19 consensus\n",
      "Finished with 19 / 22\n",
      "starting with 20 consensus ...\n",
      "Getting present relays from 20 consensus\n",
      "Finished with 20 / 22\n",
      "starting with 21 consensus ...\n",
      "Getting present relays from 21 consensus\n",
      "Finished with 21 / 22\n",
      "starting with 22 consensus ...\n",
      "Getting present relays from 22 consensus\n",
      "Finished with 22 / 22\n"
     ]
    }
   ],
   "source": [
    "# Format data\n",
    "data = []\n",
    "for day in range(len(file_paths)):\n",
    "    print('starting with',day,'consensus ...')\n",
    "    # Get all dataframes for all days\n",
    "    day_dfs = [getConsensusDataFrame(path) for path in file_paths[day]]\n",
    "    \n",
    "    print('Getting present relays from',day,'consensus')\n",
    "    # Get the names of the relays present in every consensus in the current day\n",
    "    fp_present, fp_all = getPresentValueList(day_dfs)\n",
    "    \n",
    "    # Remove relays that are not always present in this day\n",
    "    day_dfs_present = [df[df[fingerprint_default].isin(fp_present)] for df in day_dfs]\n",
    "    \n",
    "    # Rearrange dataframe with relay ids as key\n",
    "    day_df = rearrangeDataFrames(day_dfs_present)\n",
    "    \n",
    "    # Add to data list\n",
    "    #data.append(day_df)\n",
    "    day_df.to_csv('csvs/2020-02/'+str(day+1)+'-02-20.csv')\n",
    "    print('Finished with',day,'/',len(file_paths)-1)\n"
   ]
  },
  {
   "cell_type": "code",
   "execution_count": null,
   "metadata": {},
   "outputs": [],
   "source": []
  }
 ],
 "metadata": {
  "kernelspec": {
   "display_name": "env",
   "language": "python",
   "name": "env"
  },
  "language_info": {
   "codemirror_mode": {
    "name": "ipython",
    "version": 3
   },
   "file_extension": ".py",
   "mimetype": "text/x-python",
   "name": "python",
   "nbconvert_exporter": "python",
   "pygments_lexer": "ipython3",
   "version": "3.6.8"
  }
 },
 "nbformat": 4,
 "nbformat_minor": 4
}
