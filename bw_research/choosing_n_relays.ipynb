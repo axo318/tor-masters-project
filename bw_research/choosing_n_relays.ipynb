{
 "cells": [
  {
   "cell_type": "code",
   "execution_count": 1,
   "metadata": {},
   "outputs": [],
   "source": [
    "import os\n",
    "import sys\n",
    "import imp\n",
    "import pandas as pd\n",
    "import matplotlib.pyplot as plt"
   ]
  },
  {
   "cell_type": "code",
   "execution_count": 2,
   "metadata": {},
   "outputs": [],
   "source": [
    "dir_path = 'csvs/2020-02/'"
   ]
  },
  {
   "cell_type": "code",
   "execution_count": 3,
   "metadata": {},
   "outputs": [],
   "source": [
    "# Get csv paths\n",
    "paths = os.listdir(dir_path)\n",
    "\n",
    "# Get dfs for each day\n",
    "dfs_feb = [pd.read_csv(dir_path+f, engine='python') for f in paths]\n",
    "\n",
    "# Get mean bw per day\n",
    "means = [df.mean(axis=1) for df in dfs_feb]\n"
   ]
  },
  {
   "cell_type": "code",
   "execution_count": 4,
   "metadata": {},
   "outputs": [
    {
     "data": {
      "text/html": [
       "<div>\n",
       "<style scoped>\n",
       "    .dataframe tbody tr th:only-of-type {\n",
       "        vertical-align: middle;\n",
       "    }\n",
       "\n",
       "    .dataframe tbody tr th {\n",
       "        vertical-align: top;\n",
       "    }\n",
       "\n",
       "    .dataframe thead th {\n",
       "        text-align: right;\n",
       "    }\n",
       "</style>\n",
       "<table border=\"1\" class=\"dataframe\">\n",
       "  <thead>\n",
       "    <tr style=\"text-align: right;\">\n",
       "      <th></th>\n",
       "      <th>index</th>\n",
       "      <th>fingerprint</th>\n",
       "      <th>mean_bw</th>\n",
       "    </tr>\n",
       "  </thead>\n",
       "  <tbody>\n",
       "    <tr>\n",
       "      <th>0</th>\n",
       "      <td>4622</td>\n",
       "      <td>niftyporcupine 7E281CD2C315C4F7A84BC7C8721C3BC...</td>\n",
       "      <td>51115.981096</td>\n",
       "    </tr>\n",
       "    <tr>\n",
       "      <th>1</th>\n",
       "      <td>693</td>\n",
       "      <td>F3Netze 7327876AE79C997DFE311A7B15B4FA875736BBD1</td>\n",
       "      <td>50484.524732</td>\n",
       "    </tr>\n",
       "    <tr>\n",
       "      <th>2</th>\n",
       "      <td>4625</td>\n",
       "      <td>niftyrabbitrat 25526E61B8BC22B662E3D4A50504021...</td>\n",
       "      <td>49166.550882</td>\n",
       "    </tr>\n",
       "    <tr>\n",
       "      <th>3</th>\n",
       "      <td>694</td>\n",
       "      <td>F3Netze 8E38B11E849336D62AB6264FBAE9B03C70F07863</td>\n",
       "      <td>49006.530403</td>\n",
       "    </tr>\n",
       "    <tr>\n",
       "      <th>4</th>\n",
       "      <td>4624</td>\n",
       "      <td>niftyquokka 906DCB390F2BA987AE258D745E60BAAABA...</td>\n",
       "      <td>48928.786704</td>\n",
       "    </tr>\n",
       "    <tr>\n",
       "      <th>...</th>\n",
       "      <td>...</td>\n",
       "      <td>...</td>\n",
       "      <td>...</td>\n",
       "    </tr>\n",
       "    <tr>\n",
       "      <th>5927</th>\n",
       "      <td>98</td>\n",
       "      <td>ADEL ABF554C44C97825F46B1C9DEE14A2E2B62025D7E</td>\n",
       "      <td>986.798992</td>\n",
       "    </tr>\n",
       "    <tr>\n",
       "      <th>5928</th>\n",
       "      <td>190</td>\n",
       "      <td>AnonKorea00 50402D3DAD83E8923CD7715917284C8489...</td>\n",
       "      <td>980.391698</td>\n",
       "    </tr>\n",
       "    <tr>\n",
       "      <th>5929</th>\n",
       "      <td>1</td>\n",
       "      <td>0000001dxx B9609624E26C705289E57F95E30FD88D159...</td>\n",
       "      <td>674.035050</td>\n",
       "    </tr>\n",
       "    <tr>\n",
       "      <th>5930</th>\n",
       "      <td>2286</td>\n",
       "      <td>Unnamed 3864A437EDAEBF7859B9CC71348E1214BEE5BF62</td>\n",
       "      <td>419.399023</td>\n",
       "    </tr>\n",
       "    <tr>\n",
       "      <th>5931</th>\n",
       "      <td>22</td>\n",
       "      <td>0xygen 7F1A90F3E4A6A2EE347274F8E91514D18350C016</td>\n",
       "      <td>134.193919</td>\n",
       "    </tr>\n",
       "  </tbody>\n",
       "</table>\n",
       "<p>5932 rows × 3 columns</p>\n",
       "</div>"
      ],
      "text/plain": [
       "      index                                        fingerprint       mean_bw\n",
       "0      4622  niftyporcupine 7E281CD2C315C4F7A84BC7C8721C3BC...  51115.981096\n",
       "1       693   F3Netze 7327876AE79C997DFE311A7B15B4FA875736BBD1  50484.524732\n",
       "2      4625  niftyrabbitrat 25526E61B8BC22B662E3D4A50504021...  49166.550882\n",
       "3       694   F3Netze 8E38B11E849336D62AB6264FBAE9B03C70F07863  49006.530403\n",
       "4      4624  niftyquokka 906DCB390F2BA987AE258D745E60BAAABA...  48928.786704\n",
       "...     ...                                                ...           ...\n",
       "5927     98      ADEL ABF554C44C97825F46B1C9DEE14A2E2B62025D7E    986.798992\n",
       "5928    190  AnonKorea00 50402D3DAD83E8923CD7715917284C8489...    980.391698\n",
       "5929      1  0000001dxx B9609624E26C705289E57F95E30FD88D159...    674.035050\n",
       "5930   2286   Unnamed 3864A437EDAEBF7859B9CC71348E1214BEE5BF62    419.399023\n",
       "5931     22    0xygen 7F1A90F3E4A6A2EE347274F8E91514D18350C016    134.193919\n",
       "\n",
       "[5932 rows x 3 columns]"
      ]
     },
     "execution_count": 4,
     "metadata": {},
     "output_type": "execute_result"
    }
   ],
   "source": [
    "# Construct dataframe with relays and their daily means\n",
    "df_temp = pd.DataFrame()\n",
    "df_temp['fingerprint'] = dfs_feb[0]['fingerprint']\n",
    "for i,m in enumerate(means):\n",
    "    df_temp['day '+str(i+1)] = m\n",
    "    \n",
    "# Find monthly bandwidth mean of each relay\n",
    "df = pd.DataFrame()\n",
    "df['fingerprint'] = df_temp['fingerprint']\n",
    "df['mean_bw'] = df_temp.mean(axis=1)\n",
    "df = df.sort_values(by='mean_bw', ascending=False).reset_index()\n",
    "df"
   ]
  },
  {
   "cell_type": "code",
   "execution_count": 5,
   "metadata": {},
   "outputs": [],
   "source": [
    "# Save the average February data in a csv\n",
    "#df.to_csv('csvs/feb_avg_bws.csv', index=False)"
   ]
  },
  {
   "cell_type": "code",
   "execution_count": 6,
   "metadata": {},
   "outputs": [
    {
     "data": {
      "text/plain": [
       "[-50, 6000, 0, 52000]"
      ]
     },
     "execution_count": 6,
     "metadata": {},
     "output_type": "execute_result"
    },
    {
     "data": {
      "image/png": "[encoded data removed]",
      "text/plain": [
       "<Figure size 1008x504 with 1 Axes>"
      ]
     },
     "metadata": {
      "needs_background": "light"
     },
     "output_type": "display_data"
    }
   ],
   "source": [
    "# See all sorted bandwidths\n",
    "plt.figure(figsize=(14,7))\n",
    "plt.plot(range(df.shape[0]), df['mean_bw'])\n",
    "plt.title('February Average Relay Bandwidths Sorted')\n",
    "plt.axis([-50, 6000, 0, 52000])\n"
   ]
  },
  {
   "cell_type": "code",
   "execution_count": 7,
   "metadata": {},
   "outputs": [],
   "source": [
    "# See cumulative weight distribution and drop any relays outside 95% of variance\n",
    "cum_weights = [(df['mean_bw'][:i].sum())/df['mean_bw'].sum() for i in range(1,df.shape[0]+1)]\n",
    "relay_cutoff = 0\n",
    "for i in range(df.shape[0]):\n",
    "    if cum_weights[i]> 0.95:\n",
    "        relay_cutoff = i\n",
    "        break"
   ]
  },
  {
   "cell_type": "code",
   "execution_count": 8,
   "metadata": {},
   "outputs": [
    {
     "data": {
      "image/png": "[encoded data removed]",
      "text/plain": [
       "<Figure size 1008x504 with 1 Axes>"
      ]
     },
     "metadata": {
      "needs_background": "light"
     },
     "output_type": "display_data"
    }
   ],
   "source": [
    "x = df.shape[0]\n",
    "plt.figure(figsize=(14,7))\n",
    "plt.plot(range(x), cum_weights)\n",
    "plt.plot(range(x), [0.95] * x, label='95%')    # 95%\n",
    "plt.plot([relay_cutoff]*x, cum_weights, label='cutoff point')\n",
    "\n",
    "# plt.plot(range(x), [0.10] * x, label='10%')    # 95%\n",
    "# plt.plot(range(x), [0.20] * x, label='20%')    # 95%\n",
    "# plt.plot(range(x), [0.30] * x, label='30%')    # 95%\n",
    "# plt.plot(range(x), [0.40] * x, label='40%')    # 95%\n",
    "# plt.plot(range(x), [0.50] * x, label='50%')    # 95%\n",
    "# plt.plot(range(x), [0.60] * x, label='60%')    # 95%\n",
    "# plt.plot(range(x), [0.70] * x, label='70%')    # 95%\n",
    "# plt.plot(range(x), [0.80] * x, label='80%')    # 95%\n",
    "# plt.plot(range(x), [0.90] * x, label='90%')    # 95%\n",
    "\n",
    "plt.axis([-50, 6000, 0, 1.1])\n",
    "plt.legend()\n",
    "plt.title('Cumulative bandwidth weights')\n",
    "plt.show()"
   ]
  },
  {
   "cell_type": "code",
   "execution_count": 9,
   "metadata": {},
   "outputs": [],
   "source": [
    "# Remove the top 5% of relays\n",
    "i = 0\n",
    "while(1):\n",
    "    if cum_weights[i]>0.95:\n",
    "        break\n",
    "    i+=1\n",
    "cum_weights_95 = cum_weights[:i]"
   ]
  },
  {
   "cell_type": "code",
   "execution_count": 10,
   "metadata": {},
   "outputs": [
    {
     "name": "stdout",
     "output_type": "stream",
     "text": [
      "0 ... 5122\n"
     ]
    },
    {
     "data": {
      "text/plain": [
       "[75,\n",
       " 175,\n",
       " 303,\n",
       " 456,\n",
       " 626,\n",
       " 813,\n",
       " 1013,\n",
       " 1225,\n",
       " 1450,\n",
       " 1687,\n",
       " 1937,\n",
       " 2202,\n",
       " 2481,\n",
       " 2777,\n",
       " 3092,\n",
       " 3428,\n",
       " 3792,\n",
       " 4188,\n",
       " 4632]"
      ]
     },
     "execution_count": 10,
     "metadata": {},
     "output_type": "execute_result"
    }
   ],
   "source": [
    "# Get ordered, non-null, cumulative list\n",
    "Rc = cum_weights_95\n",
    "#Rc = [0.2, 0.35, 0.5, 0.65, 0.75, 0.85, 0.9, 0.95, 1]\n",
    "\n",
    "# Get N\n",
    "N = 20\n",
    "\n",
    "# Calculate index gap\n",
    "gap = cum_weights[-1] / (N+1)\n",
    "\n",
    "# Initialize while loop variables\n",
    "i = 0\n",
    "samples = []\n",
    "samples_w = []\n",
    "current_limit = gap\n",
    "\n",
    "# Loop through the cumulative weights finding the N samples\n",
    "while (i < len(Rc)) and (len(samples) < N):\n",
    "    if Rc[i] >= current_limit:\n",
    "        samples.append(i)\n",
    "        samples_w.append(Rc[i])\n",
    "        current_limit += gap\n",
    "    i += 1\n",
    "\n",
    "# Return sample indexes\n",
    "print(0,'...',len(Rc))\n",
    "samples\n"
   ]
  },
  {
   "cell_type": "code",
   "execution_count": 11,
   "metadata": {},
   "outputs": [
    {
     "data": {
      "text/plain": [
       "[<matplotlib.lines.Line2D at 0x7ffd53177278>]"
      ]
     },
     "execution_count": 11,
     "metadata": {},
     "output_type": "execute_result"
    },
    {
     "data": {
      "image/png": "[encoded data removed]",
      "text/plain": [
       "<Figure size 1008x504 with 1 Axes>"
      ]
     },
     "metadata": {
      "needs_background": "light"
     },
     "output_type": "display_data"
    }
   ],
   "source": [
    "s = len(samples_w)\n",
    "x = len(Rc)\n",
    "\n",
    "plt.figure(figsize=(14,7))\n",
    "\n",
    "# Plot cumulative lines\n",
    "for n in range(s):\n",
    "    plt.plot(range(x), [samples_w[n]]*x)\n",
    "    \n",
    "# Plot cumulative lines\n",
    "for n in range(s):\n",
    "    plt.plot([samples[n]]*x, Rc)\n",
    "\n",
    "plt.plot(range(x), Rc)\n",
    "\n"
   ]
  },
  {
   "cell_type": "code",
   "execution_count": 12,
   "metadata": {},
   "outputs": [
    {
     "data": {
      "text/plain": [
       "'\\nMake method that returns the cumulative weights\\nMake method that finds the sample indexes based on the cumulative weights\\n'"
      ]
     },
     "execution_count": 12,
     "metadata": {},
     "output_type": "execute_result"
    }
   ],
   "source": [
    "# NOTE\n",
    "'''\n",
    "Make method that returns the cumulative weights\n",
    "Make method that finds the sample indexes based on the cumulative weights\n",
    "'''"
   ]
  },
  {
   "cell_type": "code",
   "execution_count": 19,
   "metadata": {},
   "outputs": [
    {
     "data": {
      "text/html": [
       "<div>\n",
       "<style scoped>\n",
       "    .dataframe tbody tr th:only-of-type {\n",
       "        vertical-align: middle;\n",
       "    }\n",
       "\n",
       "    .dataframe tbody tr th {\n",
       "        vertical-align: top;\n",
       "    }\n",
       "\n",
       "    .dataframe thead th {\n",
       "        text-align: right;\n",
       "    }\n",
       "</style>\n",
       "<table border=\"1\" class=\"dataframe\">\n",
       "  <thead>\n",
       "    <tr style=\"text-align: right;\">\n",
       "      <th></th>\n",
       "      <th>fingerprint</th>\n",
       "      <th>mean_bw</th>\n",
       "    </tr>\n",
       "  </thead>\n",
       "  <tbody>\n",
       "    <tr>\n",
       "      <th>0</th>\n",
       "      <td>niftyporcupine 7E281CD2C315C4F7A84BC7C8721C3BC...</td>\n",
       "      <td>51115.981096</td>\n",
       "    </tr>\n",
       "    <tr>\n",
       "      <th>75</th>\n",
       "      <td>niftysnowshoehare A3901DDB7799A11E9BAB90BD1DDA...</td>\n",
       "      <td>37085.256459</td>\n",
       "    </tr>\n",
       "    <tr>\n",
       "      <th>175</th>\n",
       "      <td>Piratenpartei1 D1C5F5F8FAFA2F98A84753416BF83B8...</td>\n",
       "      <td>27785.412571</td>\n",
       "    </tr>\n",
       "    <tr>\n",
       "      <th>303</th>\n",
       "      <td>Cryptocat 35DA04A92634AF2392CBA6AF158E00B5589A...</td>\n",
       "      <td>22097.896739</td>\n",
       "    </tr>\n",
       "    <tr>\n",
       "      <th>456</th>\n",
       "      <td>nels94 8EF052033309D854D6206A4C30F17AD27C87893E</td>\n",
       "      <td>19565.348693</td>\n",
       "    </tr>\n",
       "    <tr>\n",
       "      <th>626</th>\n",
       "      <td>crmh 7A6391CBDE6AFF119B18A1BF0EE7E92D9A41BB4E</td>\n",
       "      <td>17701.338847</td>\n",
       "    </tr>\n",
       "    <tr>\n",
       "      <th>813</th>\n",
       "      <td>Seccom03 22A6BE98D201B101C32661739967BF4DED12EF96</td>\n",
       "      <td>16364.006616</td>\n",
       "    </tr>\n",
       "    <tr>\n",
       "      <th>1013</th>\n",
       "      <td>Quintex46 C78AFFEEE320EA0F860961763E613FD2FAC8...</td>\n",
       "      <td>15384.098141</td>\n",
       "    </tr>\n",
       "    <tr>\n",
       "      <th>1225</th>\n",
       "      <td>pcfreak 0E452A30E7E05744071678E0A059BDDB468930CD</td>\n",
       "      <td>14452.513941</td>\n",
       "    </tr>\n",
       "    <tr>\n",
       "      <th>1450</th>\n",
       "      <td>nonanet02 414385E0BA88B6F7870C389A60819BB06308...</td>\n",
       "      <td>13747.641777</td>\n",
       "    </tr>\n",
       "    <tr>\n",
       "      <th>1687</th>\n",
       "      <td>formica1 71D4163D363E83AD04F2FF52594D249E2B5BA4B2</td>\n",
       "      <td>13008.395243</td>\n",
       "    </tr>\n",
       "    <tr>\n",
       "      <th>1937</th>\n",
       "      <td>nomelaga E4F7869E2E9AF579EC93F5CCB823ECFCB297DA4E</td>\n",
       "      <td>12354.514887</td>\n",
       "    </tr>\n",
       "    <tr>\n",
       "      <th>2202</th>\n",
       "      <td>cobrakai A678DA60A6C7CB746553430D84AF45272ECDDA95</td>\n",
       "      <td>11618.539304</td>\n",
       "    </tr>\n",
       "    <tr>\n",
       "      <th>2481</th>\n",
       "      <td>hellzone 1ED6B8A5D70BB7BFEFC46E46592965FF00AD3EE5</td>\n",
       "      <td>11039.620589</td>\n",
       "    </tr>\n",
       "    <tr>\n",
       "      <th>2777</th>\n",
       "      <td>imascriptkiddiehelp D744A380F4FC34F9D11208A2F9...</td>\n",
       "      <td>10369.393116</td>\n",
       "    </tr>\n",
       "    <tr>\n",
       "      <th>3092</th>\n",
       "      <td>FranconianStar 4ABED7005889911128E4F62D40D642A...</td>\n",
       "      <td>9792.025599</td>\n",
       "    </tr>\n",
       "    <tr>\n",
       "      <th>3428</th>\n",
       "      <td>Schniedelwutz 0783A7C2C5671CF7C25D8847A323598F...</td>\n",
       "      <td>9070.092234</td>\n",
       "    </tr>\n",
       "    <tr>\n",
       "      <th>3792</th>\n",
       "      <td>malekalcom 834C91DEEB2FE4FEFCE55A99C378968FB65...</td>\n",
       "      <td>8374.926670</td>\n",
       "    </tr>\n",
       "    <tr>\n",
       "      <th>4188</th>\n",
       "      <td>torrelay182365 0C2781011D61CCB009459B51158DA63...</td>\n",
       "      <td>7608.316871</td>\n",
       "    </tr>\n",
       "    <tr>\n",
       "      <th>4632</th>\n",
       "      <td>vega 9BDE2A880F985C80E88F3ACC4446E826DEAC7AD1</td>\n",
       "      <td>6657.568919</td>\n",
       "    </tr>\n",
       "  </tbody>\n",
       "</table>\n",
       "</div>"
      ],
      "text/plain": [
       "                                            fingerprint       mean_bw\n",
       "0     niftyporcupine 7E281CD2C315C4F7A84BC7C8721C3BC...  51115.981096\n",
       "75    niftysnowshoehare A3901DDB7799A11E9BAB90BD1DDA...  37085.256459\n",
       "175   Piratenpartei1 D1C5F5F8FAFA2F98A84753416BF83B8...  27785.412571\n",
       "303   Cryptocat 35DA04A92634AF2392CBA6AF158E00B5589A...  22097.896739\n",
       "456     nels94 8EF052033309D854D6206A4C30F17AD27C87893E  19565.348693\n",
       "626       crmh 7A6391CBDE6AFF119B18A1BF0EE7E92D9A41BB4E  17701.338847\n",
       "813   Seccom03 22A6BE98D201B101C32661739967BF4DED12EF96  16364.006616\n",
       "1013  Quintex46 C78AFFEEE320EA0F860961763E613FD2FAC8...  15384.098141\n",
       "1225   pcfreak 0E452A30E7E05744071678E0A059BDDB468930CD  14452.513941\n",
       "1450  nonanet02 414385E0BA88B6F7870C389A60819BB06308...  13747.641777\n",
       "1687  formica1 71D4163D363E83AD04F2FF52594D249E2B5BA4B2  13008.395243\n",
       "1937  nomelaga E4F7869E2E9AF579EC93F5CCB823ECFCB297DA4E  12354.514887\n",
       "2202  cobrakai A678DA60A6C7CB746553430D84AF45272ECDDA95  11618.539304\n",
       "2481  hellzone 1ED6B8A5D70BB7BFEFC46E46592965FF00AD3EE5  11039.620589\n",
       "2777  imascriptkiddiehelp D744A380F4FC34F9D11208A2F9...  10369.393116\n",
       "3092  FranconianStar 4ABED7005889911128E4F62D40D642A...   9792.025599\n",
       "3428  Schniedelwutz 0783A7C2C5671CF7C25D8847A323598F...   9070.092234\n",
       "3792  malekalcom 834C91DEEB2FE4FEFCE55A99C378968FB65...   8374.926670\n",
       "4188  torrelay182365 0C2781011D61CCB009459B51158DA63...   7608.316871\n",
       "4632      vega 9BDE2A880F985C80E88F3ACC4446E826DEAC7AD1   6657.568919"
      ]
     },
     "execution_count": 19,
     "metadata": {},
     "output_type": "execute_result"
    }
   ],
   "source": [
    "final_samples = [0] + samples\n",
    "df.loc[final_samples].drop('index', axis=1)"
   ]
  },
  {
   "cell_type": "code",
   "execution_count": 20,
   "metadata": {},
   "outputs": [],
   "source": [
    "# Write selected relays to csv\n",
    "df.loc[final_samples].drop('index', axis=1).to_csv('csvs/20_relays.csv', index=False)"
   ]
  },
  {
   "cell_type": "code",
   "execution_count": null,
   "metadata": {},
   "outputs": [],
   "source": []
  }
 ],
 "metadata": {
  "kernelspec": {
   "display_name": "env",
   "language": "python",
   "name": "env"
  },
  "language_info": {
   "codemirror_mode": {
    "name": "ipython",
    "version": 3
   },
   "file_extension": ".py",
   "mimetype": "text/x-python",
   "name": "python",
   "nbconvert_exporter": "python",
   "pygments_lexer": "ipython3",
   "version": "3.6.9"
  }
 },
 "nbformat": 4,
 "nbformat_minor": 4
}
