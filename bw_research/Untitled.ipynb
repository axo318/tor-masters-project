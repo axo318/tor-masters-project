{
 "cells": [
  {
   "cell_type": "code",
   "execution_count": 1,
   "metadata": {},
   "outputs": [],
   "source": [
    "import os\n",
    "import sys\n",
    "import imp\n",
    "\n",
    "from lib.consensus_utils import getConsensusDataFrame, getPresentValueList, rearrangeDataFrames\n",
    "from lib.utils import fingerprint_default, name_default, bandwidth_default\n"
   ]
  },
  {
   "cell_type": "code",
   "execution_count": 2,
   "metadata": {},
   "outputs": [],
   "source": [
    "# Get all daily consensus lists in an array\n",
    "consensuses_path = \"data/consensuses-2019-12/\"\n",
    "file_paths = []\n",
    "\n",
    "for day in os.listdir(consensuses_path):\n",
    "    day_path = consensuses_path + day + '/'\n",
    "    day_list = []\n",
    "    for consensus in os.listdir(day_path):\n",
    "        day_list.append(day_path+consensus)\n",
    "    file_paths.append(day_list)"
   ]
  },
  {
   "cell_type": "code",
   "execution_count": 6,
   "metadata": {},
   "outputs": [
    {
     "name": "stdout",
     "output_type": "stream",
     "text": [
      "starting with 11 consensus ...\n",
      "Getting present relays from 11 consensus\n",
      "Finished with 11 !!!\n",
      "starting with 12 consensus ...\n",
      "Getting present relays from 12 consensus\n",
      "Finished with 12 !!!\n",
      "starting with 13 consensus ...\n",
      "Getting present relays from 13 consensus\n",
      "Finished with 13 !!!\n",
      "starting with 14 consensus ...\n",
      "Getting present relays from 14 consensus\n",
      "Finished with 14 !!!\n",
      "starting with 15 consensus ...\n",
      "Getting present relays from 15 consensus\n",
      "Finished with 15 !!!\n",
      "starting with 16 consensus ...\n",
      "Getting present relays from 16 consensus\n",
      "Finished with 16 !!!\n",
      "starting with 17 consensus ...\n",
      "Getting present relays from 17 consensus\n",
      "Finished with 17 !!!\n",
      "starting with 18 consensus ...\n",
      "Getting present relays from 18 consensus\n",
      "Finished with 18 !!!\n",
      "starting with 19 consensus ...\n",
      "Getting present relays from 19 consensus\n",
      "Finished with 19 !!!\n",
      "starting with 20 consensus ...\n",
      "Getting present relays from 20 consensus\n",
      "Finished with 20 !!!\n",
      "starting with 21 consensus ...\n",
      "Getting present relays from 21 consensus\n",
      "Finished with 21 !!!\n",
      "starting with 22 consensus ...\n",
      "Getting present relays from 22 consensus\n",
      "Finished with 22 !!!\n",
      "starting with 23 consensus ...\n",
      "Getting present relays from 23 consensus\n",
      "Finished with 23 !!!\n",
      "starting with 24 consensus ...\n",
      "Getting present relays from 24 consensus\n",
      "Finished with 24 !!!\n",
      "starting with 25 consensus ...\n",
      "Getting present relays from 25 consensus\n",
      "Finished with 25 !!!\n",
      "starting with 26 consensus ...\n",
      "Getting present relays from 26 consensus\n",
      "Finished with 26 !!!\n",
      "starting with 27 consensus ...\n",
      "Getting present relays from 27 consensus\n",
      "Finished with 27 !!!\n",
      "starting with 28 consensus ...\n",
      "Getting present relays from 28 consensus\n",
      "Finished with 28 !!!\n",
      "starting with 29 consensus ...\n",
      "Getting present relays from 29 consensus\n",
      "Finished with 29 !!!\n",
      "starting with 30 consensus ...\n",
      "Getting present relays from 30 consensus\n",
      "Finished with 30 !!!\n"
     ]
    }
   ],
   "source": [
    "# Format data\n",
    "data = []\n",
    "for day in range(11,len(file_paths)):\n",
    "    print('starting with',day,'consensus ...')\n",
    "    # Get all dataframes for all days\n",
    "    day_dfs = [getConsensusDataFrame(path) for path in file_paths[day]]\n",
    "    \n",
    "    print('Getting present relays from',day,'consensus')\n",
    "    # Get the names of the relays present in every consensus in the current day\n",
    "    fp_present, fp_all = getPresentValueList(day_dfs)\n",
    "    \n",
    "    # Remove relays that are not always present in this day\n",
    "    day_dfs_present = [df[df[fingerprint_default].isin(fp_present)] for df in day_dfs]\n",
    "    \n",
    "    # Rearrange dataframe with relay ids as key\n",
    "    day_df = rearrangeDataFrames(day_dfs_present)\n",
    "    \n",
    "    # Add to data list\n",
    "    #data.append(day_df)\n",
    "    day_df.to_csv('csvs/'+str(day+1)+'-12-19.csv')\n",
    "    print('Finished with',day,'!!!')\n"
   ]
  },
  {
   "cell_type": "code",
   "execution_count": null,
   "metadata": {},
   "outputs": [],
   "source": []
  }
 ],
 "metadata": {
  "kernelspec": {
   "display_name": "env",
   "language": "python",
   "name": "env"
  },
  "language_info": {
   "codemirror_mode": {
    "name": "ipython",
    "version": 3
   },
   "file_extension": ".py",
   "mimetype": "text/x-python",
   "name": "python",
   "nbconvert_exporter": "python",
   "pygments_lexer": "ipython3",
   "version": "3.6.9"
  }
 },
 "nbformat": 4,
 "nbformat_minor": 4
}
