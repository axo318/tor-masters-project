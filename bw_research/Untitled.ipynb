{
 "cells": [
  {
   "cell_type": "code",
   "execution_count": 12,
   "metadata": {},
   "outputs": [],
   "source": [
    "import pandas as pd\n",
    "import matplotlib.pyplot as plt\n",
    "from datetime import datetime\n",
    "\n",
    "import importlib\n",
    "import lib.ting_utils\n",
    "import lib.pipeline\n",
    "importlib.reload(lib.pipeline)\n",
    "from lib.my_time import Time\n",
    "from lib.pipeline import Pipeline"
   ]
  },
  {
   "cell_type": "code",
   "execution_count": 16,
   "metadata": {},
   "outputs": [],
   "source": [
    "pipe = Pipeline('csvs/measurements/filtered/', file_limit=6)"
   ]
  },
  {
   "cell_type": "code",
   "execution_count": 21,
   "metadata": {},
   "outputs": [
    {
     "name": "stdout",
     "output_type": "stream",
     "text": [
      "[Pipeline]: File: 06BBEA_0.csv was parsed.\n",
      "[Pipeline]: File: 06BBEA_1.csv was parsed.\n",
      "[Pipeline]: File: 06BBEA_2.csv was parsed.\n",
      "[Pipeline]: File: 0E452A_0.csv was parsed.\n",
      "[Pipeline]: File: 0E452A_1.csv was parsed.\n",
      "[Pipeline]: File: 0E452A_2.csv was parsed.\n",
      "[Pipeline]: Shortest time duration was found to be: 8281.0 for relay: 0E452A30E7E05744071678E0A059BDDB468930CD\n",
      "[Pipeline]: Window interval was calculated as: 1081.0 seconds, 18.016666666666666 minutes\n",
      "[Pipeline]: Starting tests ...\n"
     ]
    }
   ],
   "source": [
    "periods = [1, 5, 10, 15, 20, 45, 60]\n",
    "periods = [p*60 for p in periods]\n",
    "pipe.run(periods)"
   ]
  },
  {
   "cell_type": "code",
   "execution_count": 22,
   "metadata": {},
   "outputs": [
    {
     "name": "stdout",
     "output_type": "stream",
     "text": [
      "Relay: 06BBEAA6F73759A1795EB461D39D2AA168F305D1\n",
      "Sampling Period (minutes): 1.0  Variance,Std = (144.27355734289063, 12.98908567595549)\n",
      "Sampling Period (minutes): 5.0  Variance,Std = (397.54243249898803, 78.83548893525685)\n",
      "Sampling Period (minutes): 10.0  Variance,Std = (410.95790891318495, 113.2583401414637)\n",
      "Sampling Period (minutes): 15.0  Variance,Std = (425.4711382223156, 152.86976095370215)\n",
      "Sampling Period (minutes): 20.0  Variance,Std = (424.7452706397163, 162.45468088701688)\n",
      "Sampling Period (minutes): 45.0  Variance,Std = (398.8202734294976, 111.28361732485799)\n",
      "Sampling Period (minutes): 60.0  Variance,Std = (406.844277554445, 123.90219810683129)\n",
      "\n",
      "Relay: 06BBEAA6F73759A1795EB461D39D2AA168F305D1\n",
      "Sampling Period (minutes): 1.0  Variance,Std = (426.4641754717189, 62.85507764493406)\n",
      "Sampling Period (minutes): 5.0  Variance,Std = (1134.6481269302767, 383.2522456161689)\n",
      "Sampling Period (minutes): 10.0  Variance,Std = (1259.018384073096, 784.9037795131367)\n",
      "Sampling Period (minutes): 15.0  Variance,Std = (1170.6160773502718, 755.6273729620314)\n",
      "Sampling Period (minutes): 20.0  Variance,Std = (1122.7571077306557, 706.5574418208624)\n",
      "Sampling Period (minutes): 45.0  Variance,Std = (944.9989302762259, 370.452622254679)\n",
      "Sampling Period (minutes): 60.0  Variance,Std = (950.4003935860022, 368.14879884545485)\n",
      "\n",
      "Relay: 06BBEAA6F73759A1795EB461D39D2AA168F305D1\n",
      "Sampling Period (minutes): 1.0  Variance,Std = (87.05662855417896, 9.11479835205666)\n",
      "Sampling Period (minutes): 5.0  Variance,Std = (294.5019568874694, 57.98555061651191)\n",
      "Sampling Period (minutes): 10.0  Variance,Std = (281.2852704299094, 97.39809500230841)\n",
      "Sampling Period (minutes): 15.0  Variance,Std = (285.1685178192509, 110.37949356350266)\n",
      "Sampling Period (minutes): 20.0  Variance,Std = (285.86684402129026, 126.06655158320487)\n",
      "Sampling Period (minutes): 45.0  Variance,Std = (294.4607220400044, 128.85089739541985)\n",
      "Sampling Period (minutes): 60.0  Variance,Std = (290.0871129642839, 126.25377883716507)\n",
      "\n",
      "Relay: 0E452A30E7E05744071678E0A059BDDB468930CD\n",
      "Sampling Period (minutes): 1.0  Variance,Std = (258.5334209972042, 19.291126405380012)\n",
      "Sampling Period (minutes): 5.0  Variance,Std = (670.4008707569436, 120.8500403541874)\n",
      "Sampling Period (minutes): 10.0  Variance,Std = (800.85240465213, 201.70256102112324)\n",
      "Sampling Period (minutes): 15.0  Variance,Std = (829.5750068961419, 314.25732222622133)\n",
      "Sampling Period (minutes): 20.0  Variance,Std = (825.6671597967284, 328.59781638586827)\n",
      "Sampling Period (minutes): 45.0  Variance,Std = (868.8250551340169, 375.5821231222444)\n",
      "Sampling Period (minutes): 60.0  Variance,Std = (896.9040722011133, 395.19589452183965)\n",
      "\n",
      "Relay: 0E452A30E7E05744071678E0A059BDDB468930CD\n",
      "Sampling Period (minutes): 1.0  Variance,Std = (232.22384649496263, 43.38957338764117)\n",
      "Sampling Period (minutes): 5.0  Variance,Std = (433.9743082150978, 69.95603430047044)\n",
      "Sampling Period (minutes): 10.0  Variance,Std = (478.0247712329991, 146.22952861854262)\n",
      "Sampling Period (minutes): 15.0  Variance,Std = (500.0558949272777, 220.54439780505595)\n",
      "Sampling Period (minutes): 20.0  Variance,Std = (509.18893363602984, 216.10082889782097)\n",
      "Sampling Period (minutes): 45.0  Variance,Std = (575.6188647905268, 311.3189308953173)\n",
      "Sampling Period (minutes): 60.0  Variance,Std = (559.5032546497395, 300.1327867597413)\n",
      "\n",
      "Relay: 0E452A30E7E05744071678E0A059BDDB468930CD\n",
      "Sampling Period (minutes): 1.0  Variance,Std = (148.48336031620744, 12.526126895884277)\n",
      "Sampling Period (minutes): 5.0  Variance,Std = (341.39216651954297, 55.537511057984176)\n",
      "Sampling Period (minutes): 10.0  Variance,Std = (396.5851668576336, 82.54402670524458)\n",
      "Sampling Period (minutes): 15.0  Variance,Std = (426.78136037633277, 126.30989164280403)\n",
      "Sampling Period (minutes): 20.0  Variance,Std = (440.089291463351, 147.5324656123332)\n",
      "Sampling Period (minutes): 45.0  Variance,Std = (474.8006207471347, 225.406338705814)\n",
      "Sampling Period (minutes): 60.0  Variance,Std = (533.3861245996106, 443.98785550021057)\n",
      "\n"
     ]
    }
   ],
   "source": [
    "pipe.printResults()"
   ]
  },
  {
   "cell_type": "code",
   "execution_count": null,
   "metadata": {},
   "outputs": [],
   "source": []
  }
 ],
 "metadata": {
  "kernelspec": {
   "display_name": "env",
   "language": "python",
   "name": "env"
  },
  "language_info": {
   "codemirror_mode": {
    "name": "ipython",
    "version": 3
   },
   "file_extension": ".py",
   "mimetype": "text/x-python",
   "name": "python",
   "nbconvert_exporter": "python",
   "pygments_lexer": "ipython3",
   "version": "3.6.8"
  }
 },
 "nbformat": 4,
 "nbformat_minor": 4
}
